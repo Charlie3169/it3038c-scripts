{
 "cells": [
  {
   "cell_type": "markdown",
   "metadata": {},
   "source": [
    "# Project 2\n",
    "\n",
    "This project is meant to be the start of my own collection of webscraping functionalities.\n",
    "Currently I have created a function that randomly traverses the web by grabbing links on webpages and visiting them.\n",
    "\n",
    "I would eventually want to do a bunch of stuff with text analysis, word cloud generation, web sockets, and other networking functionalities."
   ]
  },
  {
   "cell_type": "code",
   "execution_count": 31,
   "metadata": {},
   "outputs": [],
   "source": [
    "from bs4 import BeautifulSoup\n",
    "import requests\n",
    "import socket\n",
    "import re\n",
    "import random"
   ]
  },
  {
   "cell_type": "code",
   "execution_count": 32,
   "metadata": {},
   "outputs": [],
   "source": [
    "def getSoup(url):\n",
    "    r = requests.get(url).content    \n",
    "    return BeautifulSoup(r, 'html.parser')\n",
    "    "
   ]
  },
  {
   "cell_type": "code",
   "execution_count": 33,
   "metadata": {},
   "outputs": [],
   "source": [
    "def printSoup(soup):\n",
    "    print(soup.prettify())"
   ]
  },
  {
   "cell_type": "code",
   "execution_count": 34,
   "metadata": {},
   "outputs": [],
   "source": [
    "def getAllText(soup):\n",
    "    text = soup.get_text()    \n",
    "    print(text)"
   ]
  },
  {
   "cell_type": "code",
   "execution_count": 35,
   "metadata": {},
   "outputs": [],
   "source": [
    "# Work in progress\n",
    "def getWordCloud(soup):\n",
    "    words = {}        \n",
    "    for link in soup.find_all():\n",
    "       print(\"\")\n",
    "    return words"
   ]
  },
  {
   "cell_type": "code",
   "execution_count": 36,
   "metadata": {},
   "outputs": [],
   "source": [
    "# Work in progress\n",
    "def getSiteIP(url):\n",
    "    try:\n",
    "        ip = socket.gethostbyname(url)\n",
    "        return ip\n",
    "    except:\n",
    "        return \"192.168.1.1\"       "
   ]
  },
  {
   "cell_type": "code",
   "execution_count": 37,
   "metadata": {},
   "outputs": [],
   "source": [
    "def getSiteLocation(ip):\n",
    "    \n",
    "    ipInfo = requests.get(f\"https://ipinfo.io/{ip}/geo\").json()\n",
    "\n",
    "    try:        \n",
    "        print(f\"Location: {ipInfo['loc']}\")        \n",
    "    except:\n",
    "        print(\"Ipinfo.io failed to return location data for this address\")\n",
    "    "
   ]
  },
  {
   "cell_type": "code",
   "execution_count": 38,
   "metadata": {},
   "outputs": [],
   "source": [
    "def getAllLinks(soup):\n",
    "    outputList = []\n",
    "    for link in soup.find_all('a', attrs={'href':re.compile(\"^http\")}):\n",
    "        outputList.append(link.get('href'))\n",
    "    return outputList"
   ]
  },
  {
   "cell_type": "code",
   "execution_count": 39,
   "metadata": {},
   "outputs": [],
   "source": [
    "def traverseWeb(startingLink, visitedLinks):\n",
    "    print(f\"Current Link: {startingLink}\")\n",
    "    visitedLinks.add(startingLink)\n",
    "    links = getAllLinks(getSoup(startingLink))    \n",
    "    \n",
    "    if(len(links) > 0):        \n",
    "        print(f\"Branches points from here: {len(links)}\")\n",
    "        nextLink = links[random.randint(0, len(links) - 1)]   \n",
    "        \n",
    "        while(nextLink in visitedLinks):\n",
    "            nextLink = links[random.randint(0, len(links) - 1)]   \n",
    "                     \n",
    "        traverseWeb(nextLink, visitedLinks)  \n",
    "    else:\n",
    "        print(\"\\nLink chain ended\")\n",
    "        print(f\"Total links visited: {len(visitedLinks)}\")\n",
    "        print(f\"Links visited: {visitedLinks}\")"
   ]
  },
  {
   "cell_type": "code",
   "execution_count": 40,
   "metadata": {},
   "outputs": [
    {
     "name": "stdout",
     "output_type": "stream",
     "text": [
      "Current Link: https://analytics.usa.gov\n",
      "Branches points from here: 17\n",
      "Current Link: https://cloud.gov/\n",
      "Branches points from here: 19\n",
      "Current Link: https://18f.gsa.gov/\n",
      "Branches points from here: 15\n",
      "Current Link: https://github.com/18F/18f.gsa.gov/issues/new\n",
      "Branches points from here: 3\n",
      "Current Link: https://github.com/contact\n",
      "Branches points from here: 17\n",
      "Current Link: https://docs.github.com/desktop\n",
      "Branches points from here: 20\n",
      "Current Link: https://github.blog/changelog/label/desktop\n",
      "Branches points from here: 156\n",
      "Current Link: https://github.blog/changelog/label/releases/\n",
      "Branches points from here: 185\n",
      "Current Link: https://github.blog/changelog/label/education/\n",
      "Branches points from here: 204\n",
      "Current Link: https://github.blog/\n",
      "Branches points from here: 210\n",
      "Current Link: https://github.community/\n",
      "Branches points from here: 23\n",
      "Current Link: https://github.com/about\n",
      "Branches points from here: 42\n",
      "Current Link: https://support.github.com?tags=dotcom-footer\n",
      "Branches points from here: 17\n",
      "Current Link: https://docs.github.com/github/managing-subscriptions-and-notifications-on-github\n",
      "Branches points from here: 16\n",
      "Current Link: https://electronjs.org/docs\n",
      "Branches points from here: 17\n",
      "Current Link: https://github.com/electron/electron/tree/v21.2.0/docs/fiddles/quick-start\n",
      "Branches points from here: 27\n",
      "Current Link: https://resources.github.com/ci-cd/\n",
      "Branches points from here: 94\n",
      "Current Link: https://atom.io\n",
      "Branches points from here: 22\n",
      "Current Link: https://flight-manual.atom.io/faq/\n",
      "Branches points from here: 15\n",
      "Current Link: https://atom.io/\n",
      "Branches points from here: 22\n",
      "Current Link: https://electronjs.org\n",
      "Branches points from here: 29\n",
      "Current Link: https://github.com/electron\n",
      "Branches points from here: 22\n",
      "Current Link: https://docs.github.com\n",
      "Branches points from here: 20\n",
      "Current Link: https://www.githubstatus.com/\n",
      "Branches points from here: 62\n",
      "Current Link: https://github.com/support\n",
      "Branches points from here: 17\n",
      "Current Link: https://githubstatus.com\n",
      "\n",
      "Link chain ended\n",
      "Total links visited: 26\n",
      "Links visited: {'https://github.blog/changelog/label/education/', 'https://atom.io/', 'https://analytics.usa.gov', 'https://github.community/', 'https://docs.github.com/github/managing-subscriptions-and-notifications-on-github', 'https://atom.io', 'https://github.blog/changelog/label/desktop', 'https://github.com/electron/electron/tree/v21.2.0/docs/fiddles/quick-start', 'https://docs.github.com/desktop', 'https://support.github.com?tags=dotcom-footer', 'https://github.com/electron', 'https://resources.github.com/ci-cd/', 'https://electronjs.org/docs', 'https://github.com/about', 'https://github.com/contact', 'https://github.com/support', 'https://github.blog/', 'https://www.githubstatus.com/', 'https://docs.github.com', 'https://github.com/18F/18f.gsa.gov/issues/new', 'https://electronjs.org', 'https://flight-manual.atom.io/faq/', 'https://githubstatus.com', 'https://18f.gsa.gov/', 'https://cloud.gov/', 'https://github.blog/changelog/label/releases/'}\n"
     ]
    }
   ],
   "source": [
    "testURL = 'https://analytics.usa.gov'\n",
    "traverseWeb(testURL, set())"
   ]
  }
 ],
 "metadata": {
  "kernelspec": {
   "display_name": "Python 3 (ipykernel)",
   "language": "python",
   "name": "python3"
  },
  "language_info": {
   "codemirror_mode": {
    "name": "ipython",
    "version": 3
   },
   "file_extension": ".py",
   "mimetype": "text/x-python",
   "name": "python",
   "nbconvert_exporter": "python",
   "pygments_lexer": "ipython3",
   "version": "3.10.6"
  },
  "vscode": {
   "interpreter": {
    "hash": "369f2c481f4da34e4445cda3fffd2e751bd1c4d706f27375911949ba6bb62e1c"
   }
  }
 },
 "nbformat": 4,
 "nbformat_minor": 2
}
