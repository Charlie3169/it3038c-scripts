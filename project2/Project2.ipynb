{
 "cells": [
  {
   "cell_type": "markdown",
   "metadata": {},
   "source": [
    "# Project 2\n",
    "\n",
    "This project is meant to be the start of my own collection of webscraping functionalities.\n",
    "Currently I have created a function that randomly traverses the web by grabbing links on webpages and visiting them.\n",
    "\n",
    "I would eventually want to do a bunch of stuff with text analysis, word cloud generation, web sockets, and other networking functionalities."
   ]
  },
  {
   "cell_type": "code",
   "execution_count": 13,
   "metadata": {},
   "outputs": [],
   "source": [
    "from bs4 import BeautifulSoup\n",
    "import requests\n",
    "import socket\n",
    "import re\n",
    "import random"
   ]
  },
  {
   "cell_type": "code",
   "execution_count": 14,
   "metadata": {},
   "outputs": [],
   "source": [
    "def getSoup(url):\n",
    "    r = requests.get(url).content    \n",
    "    return BeautifulSoup(r, 'html.parser')\n",
    "    "
   ]
  },
  {
   "cell_type": "code",
   "execution_count": 15,
   "metadata": {},
   "outputs": [],
   "source": [
    "def printSoup(soup):\n",
    "    print(soup.prettify())"
   ]
  },
  {
   "cell_type": "code",
   "execution_count": 16,
   "metadata": {},
   "outputs": [],
   "source": [
    "def getAllText(soup):\n",
    "    text = soup.get_text()    \n",
    "    print(text)"
   ]
  },
  {
   "cell_type": "code",
   "execution_count": 17,
   "metadata": {},
   "outputs": [],
   "source": [
    "# Work in progress\n",
    "def getWordCloud(soup):\n",
    "    words = {}        \n",
    "    for link in soup.find_all():\n",
    "       print(\"\")\n",
    "    return words"
   ]
  },
  {
   "cell_type": "code",
   "execution_count": 18,
   "metadata": {},
   "outputs": [],
   "source": [
    "# Work in progress\n",
    "def getSiteIP(url):\n",
    "    try:\n",
    "        ip = socket.gethostbyname(url)\n",
    "        return ip\n",
    "    except:\n",
    "        return \"192.168.1.1\"       "
   ]
  },
  {
   "cell_type": "code",
   "execution_count": 19,
   "metadata": {},
   "outputs": [],
   "source": [
    "def getSiteLocation(ip):\n",
    "    \n",
    "    ipInfo = requests.get(f\"https://ipinfo.io/{ip}/geo\").json()\n",
    "\n",
    "    try:        \n",
    "        print(f\"Location: {ipInfo['loc']}\")        \n",
    "    except:\n",
    "        print(\"Ipinfo.io failed to return location data for this address\")\n",
    "    "
   ]
  },
  {
   "cell_type": "code",
   "execution_count": 20,
   "metadata": {},
   "outputs": [],
   "source": [
    "def getTextByElement(soup, tag, attrs):\n",
    "    outputList = []\n",
    "    for element in soup.find_all(tag, attrs):\n",
    "        outputList.append(element.text)\n",
    "    return outputList"
   ]
  },
  {
   "cell_type": "code",
   "execution_count": 21,
   "metadata": {},
   "outputs": [],
   "source": [
    "def getAllLinks(soup):\n",
    "    outputList = []\n",
    "    for link in soup.find_all('a', attrs={'href':re.compile(\"^http\")}):\n",
    "        outputList.append(link.get('href'))\n",
    "    return outputList"
   ]
  },
  {
   "cell_type": "code",
   "execution_count": 22,
   "metadata": {},
   "outputs": [],
   "source": [
    "def traverseWeb(startingLink, visitedLinks):\n",
    "    print(f\"Current Link: {startingLink}\")\n",
    "    visitedLinks.add(startingLink)\n",
    "    links = getAllLinks(getSoup(startingLink))    \n",
    "    \n",
    "    if(len(links) > 0):        \n",
    "        print(f\"Branches points from here: {len(links)}\")\n",
    "        nextLink = links[random.randint(0, len(links) - 1)]   \n",
    "        \n",
    "        # This part could be improved on\n",
    "        while(nextLink in visitedLinks):\n",
    "            nextLink = links[random.randint(0, len(links) - 1)]   \n",
    "                     \n",
    "        traverseWeb(nextLink, visitedLinks)  \n",
    "    else:\n",
    "        print(\"\\nLink chain ended\")\n",
    "        print(f\"Total links visited: {len(visitedLinks)}\")\n",
    "        print(f\"Links visited: {visitedLinks}\")"
   ]
  },
  {
   "cell_type": "code",
   "execution_count": 23,
   "metadata": {},
   "outputs": [
    {
     "name": "stdout",
     "output_type": "stream",
     "text": [
      "Module 9 – Web Scraping\n"
     ]
    }
   ],
   "source": [
    "soup = getSoup('https://it3038c.github.io/IT3038C/modules/9')\n",
    "elements = getTextByElement(soup, 'h1', {})\n",
    "for element in elements:\n",
    "    print(element)\n"
   ]
  },
  {
   "cell_type": "code",
   "execution_count": 34,
   "metadata": {},
   "outputs": [
    {
     "name": "stdout",
     "output_type": "stream",
     "text": [
      "Current Link: https://analytics.usa.gov\n",
      "Branches points from here: 17\n",
      "Current Link: https://github.com/18F/analytics-reporter\n",
      "Branches points from here: 46\n",
      "Current Link: https://docs.github.com\n",
      "Branches points from here: 20\n",
      "Current Link: https://github.com/github/docs/blob/main/CONTRIBUTING.md\n",
      "Branches points from here: 45\n",
      "Current Link: https://support.github.com?tags=dotcom-footer\n",
      "Branches points from here: 17\n",
      "Current Link: https://docs.github.com/github/managing-subscriptions-and-notifications-on-github\n",
      "Branches points from here: 16\n",
      "Current Link: https://github.community/\n",
      "Branches points from here: 22\n",
      "Current Link: https://www.githubstatus.com/\n",
      "Branches points from here: 62\n",
      "Current Link: https://www.githubstatus.com/incidents/3ktldkb3r6f8\n",
      "Branches points from here: 59\n",
      "Current Link: https://www.atlassian.com/legal/privacy-policy\n",
      "Branches points from here: 65\n",
      "Current Link: https://www.atlassian.com/pl/legal/privacy-policy\n",
      "Branches points from here: 65\n",
      "Current Link: http://www.privacyshield.gov/\n",
      "Branches points from here: 9\n",
      "Current Link: http://www.privacyshield.gov/PrivacyShield/ApplyNow\n",
      "Branches points from here: 11\n",
      "Current Link: http://www.privacyshield.gov/list\n",
      "Branches points from here: 9\n",
      "Current Link: https://www.usa.gov\n",
      "Branches points from here: 7\n",
      "Current Link: https://twitter.com/USAgov\n",
      "Branches points from here: 6\n",
      "Current Link: https://twitter.com/tos\n",
      "Branches points from here: 122\n",
      "Current Link: https://www.twitter.com/privacy\n",
      "Branches points from here: 92\n",
      "Current Link: https://twitter.com/privacy\n",
      "Branches points from here: 92\n",
      "Current Link: https://careers.twitter.com/\n",
      "Branches points from here: 47\n",
      "Current Link: https://www.twitterflightschool.com/sl/382652bc\n",
      "Branches points from here: 17\n",
      "Current Link: http://marketing.twitter.com\n",
      "Branches points from here: 60\n",
      "Current Link: https://business.twitter.com/en/help.html\n",
      "Branches points from here: 47\n",
      "Current Link: https://investor.twitterinc.com/\n",
      "Branches points from here: 56\n",
      "Current Link: https://dev.twitter.com/overview/documentation\n",
      "Branches points from here: 73\n",
      "Current Link: https://publish.twitter.com\n",
      "\n",
      "Link chain ended\n",
      "Total links visited: 26\n",
      "Links visited: {'https://docs.github.com', 'https://investor.twitterinc.com/', 'https://www.twitter.com/privacy', 'https://careers.twitter.com/', 'http://marketing.twitter.com', 'https://publish.twitter.com', 'http://www.privacyshield.gov/list', 'https://dev.twitter.com/overview/documentation', 'https://www.usa.gov', 'https://www.githubstatus.com/incidents/3ktldkb3r6f8', 'https://github.com/github/docs/blob/main/CONTRIBUTING.md', 'https://www.twitterflightschool.com/sl/382652bc', 'https://www.atlassian.com/legal/privacy-policy', 'http://www.privacyshield.gov/PrivacyShield/ApplyNow', 'http://www.privacyshield.gov/', 'https://docs.github.com/github/managing-subscriptions-and-notifications-on-github', 'https://twitter.com/USAgov', 'https://www.githubstatus.com/', 'https://analytics.usa.gov', 'https://github.com/18F/analytics-reporter', 'https://support.github.com?tags=dotcom-footer', 'https://twitter.com/privacy', 'https://business.twitter.com/en/help.html', 'https://github.community/', 'https://www.atlassian.com/pl/legal/privacy-policy', 'https://twitter.com/tos'}\n"
     ]
    }
   ],
   "source": [
    "testURL = 'https://analytics.usa.gov'\n",
    "traverseWeb(testURL, set())"
   ]
  }
 ],
 "metadata": {
  "kernelspec": {
   "display_name": "Python 3 (ipykernel)",
   "language": "python",
   "name": "python3"
  },
  "language_info": {
   "codemirror_mode": {
    "name": "ipython",
    "version": 3
   },
   "file_extension": ".py",
   "mimetype": "text/x-python",
   "name": "python",
   "nbconvert_exporter": "python",
   "pygments_lexer": "ipython3",
   "version": "3.10.6"
  },
  "vscode": {
   "interpreter": {
    "hash": "369f2c481f4da34e4445cda3fffd2e751bd1c4d706f27375911949ba6bb62e1c"
   }
  }
 },
 "nbformat": 4,
 "nbformat_minor": 2
}
