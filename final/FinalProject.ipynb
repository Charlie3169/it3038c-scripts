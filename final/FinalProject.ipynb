{
 "cells": [
  {
   "cell_type": "markdown",
   "metadata": {},
   "source": [
    "# Final project\n",
    "\n",
    "For this project I made a complex number plotter that uses Sympy as a backend for any functions I'd want to graph. I've always wanted an easy way to graph stuff on the complex plane (especially in a reusable way) and this project is a good start.\n",
    "\n",
    "**Instructions on running the project:** \n",
    "\n",
    "pip install notebook\n",
    "\n",
    "pip install sympy\n",
    "\n",
    "**Then in the project directory:**\n",
    "\n",
    "jupyter notebook"
   ]
  },
  {
   "cell_type": "code",
   "execution_count": 48,
   "metadata": {},
   "outputs": [],
   "source": [
    "import math\n",
    "import cmath\n",
    "import numpy as np\n",
    "from sympy import *\n",
    "import matplotlib.pyplot as plt"
   ]
  },
  {
   "cell_type": "code",
   "execution_count": 49,
   "metadata": {},
   "outputs": [],
   "source": [
    "x, t, z, s, a, b, c = symbols('x, t, z, s, a, b, c')\n",
    "k, m, n = symbols('k m n', integer=True)\n",
    "# f, g, h = symbols('f g h', cls=Function)\n",
    "init_printing(fontsize='200pt', use_latex='mathjax')"
   ]
  },
  {
   "cell_type": "code",
   "execution_count": 50,
   "metadata": {},
   "outputs": [
    {
     "data": {
      "text/latex": [
       "$\\displaystyle \\int \\sqrt{\\frac{1}{x}}\\, dx$"
      ],
      "text/plain": [
       "⌠           \n",
       "⎮     ___   \n",
       "⎮    ╱ 1    \n",
       "⎮   ╱  ─  dx\n",
       "⎮ ╲╱   x    \n",
       "⌡           "
      ]
     },
     "metadata": {},
     "output_type": "display_data"
    }
   ],
   "source": [
    "testIntegral = Integral(sqrt(1/x),x)\n",
    "display(testIntegral)"
   ]
  },
  {
   "cell_type": "code",
   "execution_count": 51,
   "metadata": {},
   "outputs": [
    {
     "data": {
      "text/latex": [
       "$\\displaystyle \\sum_{k=1}^{\\infty} \\frac{1}{k}$"
      ],
      "text/plain": [
       "  ∞    \n",
       " ____  \n",
       " ╲     \n",
       "  ╲    \n",
       "   ╲  1\n",
       "   ╱  ─\n",
       "  ╱   k\n",
       " ╱     \n",
       " ‾‾‾‾  \n",
       "k = 1  "
      ]
     },
     "metadata": {},
     "output_type": "display_data"
    }
   ],
   "source": [
    "testSum = Sum(1/k, (k, 1, oo))\n",
    "display(testSum)"
   ]
  },
  {
   "cell_type": "code",
   "execution_count": 52,
   "metadata": {},
   "outputs": [
    {
     "data": {
      "text/latex": [
       "$\\displaystyle e^{\\frac{2 i \\pi}{7}}$"
      ],
      "text/plain": [
       " 2⋅ⅈ⋅π\n",
       " ─────\n",
       "   7  \n",
       "ℯ     "
      ]
     },
     "execution_count": 52,
     "metadata": {},
     "output_type": "execute_result"
    }
   ],
   "source": [
    "# This function outputs n-th roots of unity raised to arbitrary powers\n",
    "# These will be the building blocks of many other functions \n",
    "def rootOfUnityPower(numerator: int, denominator: int) -> Symbol:\n",
    "    return exp((2 * pi * I * numerator) / denominator)\n",
    "\n",
    "rootOfUnityPower(1,7)"
   ]
  },
  {
   "cell_type": "code",
   "execution_count": 53,
   "metadata": {},
   "outputs": [
    {
     "data": {
      "text/latex": [
       "$\\displaystyle \\sum_{n=1}^{\\infty} n^{- s} e^{\\frac{2 i \\pi n}{b}}$"
      ],
      "text/plain": [
       "  ∞               \n",
       " ____             \n",
       " ╲                \n",
       "  ╲        2⋅ⅈ⋅π⋅n\n",
       "   ╲       ───────\n",
       "   ╱   -s     b   \n",
       "  ╱   n  ⋅ℯ       \n",
       " ╱                \n",
       " ‾‾‾‾             \n",
       "n = 1             "
      ]
     },
     "metadata": {},
     "output_type": "display_data"
    },
    {
     "data": {
      "text/latex": [
       "$\\displaystyle \\sum_{n=1}^{\\infty} \\frac{e^{\\frac{2 i \\pi n}{3}}}{n^{2}}$"
      ],
      "text/plain": [
       "  ∞            \n",
       "______         \n",
       "╲              \n",
       " ╲             \n",
       "  ╲     2⋅ⅈ⋅π⋅n\n",
       "   ╲    ───────\n",
       "    ╲      3   \n",
       "    ╱  ℯ       \n",
       "   ╱   ────────\n",
       "  ╱        2   \n",
       " ╱        n    \n",
       "╱              \n",
       "‾‾‾‾‾‾         \n",
       "n = 1          "
      ]
     },
     "metadata": {},
     "output_type": "display_data"
    },
    {
     "data": {
      "text/latex": [
       "$\\displaystyle -0.54805 + 0.6765 i$"
      ],
      "text/plain": [
       "-0.54805 + 0.6765⋅ⅈ"
      ]
     },
     "metadata": {},
     "output_type": "display_data"
    }
   ],
   "source": [
    "rootOfUnityZetaSeries = Sum(rootOfUnityPower(n,b) / (n ** s), (n, 1, oo))\n",
    "display(rootOfUnityZetaSeries)\n",
    "display(rootOfUnityZetaSeries.subs({s:2,b:3}))\n",
    "display(rootOfUnityZetaSeries.evalf(subs={s:2,b:3}))"
   ]
  },
  {
   "cell_type": "code",
   "execution_count": 54,
   "metadata": {},
   "outputs": [
    {
     "data": {
      "text/latex": [
       "$\\displaystyle \\frac{e^{\\frac{2 i \\pi n}{5}}}{n^{3}}$"
      ],
      "text/plain": [
       " 2⋅ⅈ⋅π⋅n\n",
       " ───────\n",
       "    5   \n",
       "ℯ       \n",
       "────────\n",
       "    3   \n",
       "   n    "
      ]
     },
     "execution_count": 54,
     "metadata": {},
     "output_type": "execute_result"
    }
   ],
   "source": [
    "def rootOfUnityZetaFunction(nthRootOfUnity : int, rotationalOffset : int, sValue : complex) -> Symbol:\n",
    "    effectiveOffset = rotationalOffset % nthRootOfUnity    \n",
    "    return rootOfUnityPower(n + effectiveOffset, nthRootOfUnity) / (n ** sValue)\n",
    "\n",
    "rootOfUnityZetaFunction(5, 0, 3)"
   ]
  },
  {
   "cell_type": "code",
   "execution_count": 55,
   "metadata": {},
   "outputs": [
    {
     "data": {
      "text/latex": [
       "$\\displaystyle \\sum_{n=1}^{\\infty} \\frac{1}{n^{2}}$"
      ],
      "text/plain": [
       "  ∞     \n",
       " ____   \n",
       " ╲      \n",
       "  ╲   1 \n",
       "   ╲  ──\n",
       "   ╱   2\n",
       "  ╱   n \n",
       " ╱      \n",
       " ‾‾‾‾   \n",
       "n = 1   "
      ]
     },
     "metadata": {},
     "output_type": "display_data"
    },
    {
     "data": {
      "text/latex": [
       "$\\displaystyle \\frac{\\pi^{2}}{6}$"
      ],
      "text/plain": [
       " 2\n",
       "π \n",
       "──\n",
       "6 "
      ]
     },
     "metadata": {},
     "output_type": "display_data"
    },
    {
     "data": {
      "text/latex": [
       "$\\displaystyle \\sum_{n=1}^{\\infty} \\frac{1}{n^{3}}$"
      ],
      "text/plain": [
       "  ∞     \n",
       " ____   \n",
       " ╲      \n",
       "  ╲   1 \n",
       "   ╲  ──\n",
       "   ╱   3\n",
       "  ╱   n \n",
       " ╱      \n",
       " ‾‾‾‾   \n",
       "n = 1   "
      ]
     },
     "metadata": {},
     "output_type": "display_data"
    },
    {
     "data": {
      "text/latex": [
       "$\\displaystyle \\zeta\\left(3\\right)$"
      ],
      "text/plain": [
       "ζ(3)"
      ]
     },
     "metadata": {},
     "output_type": "display_data"
    },
    {
     "data": {
      "text/latex": [
       "$\\displaystyle \\sum_{n=1}^{\\infty} \\frac{1}{n^{4}}$"
      ],
      "text/plain": [
       "  ∞     \n",
       " ____   \n",
       " ╲      \n",
       "  ╲   1 \n",
       "   ╲  ──\n",
       "   ╱   4\n",
       "  ╱   n \n",
       " ╱      \n",
       " ‾‾‾‾   \n",
       "n = 1   "
      ]
     },
     "metadata": {},
     "output_type": "display_data"
    },
    {
     "data": {
      "text/latex": [
       "$\\displaystyle \\frac{\\pi^{4}}{90}$"
      ],
      "text/plain": [
       " 4\n",
       "π \n",
       "──\n",
       "90"
      ]
     },
     "metadata": {},
     "output_type": "display_data"
    }
   ],
   "source": [
    "display(Sum(1/n**2, (n, 1, oo)))\n",
    "display(Sum(1/n**2, (n, 1, oo)).doit())\n",
    "display(Sum(1/n**3, (n, 1, oo)))\n",
    "display(Sum(1/n**3, (n, 1, oo)).doit())\n",
    "display(Sum(1/n**4, (n, 1, oo)))\n",
    "display(Sum(1/n**4, (n, 1, oo)).doit())"
   ]
  },
  {
   "cell_type": "code",
   "execution_count": 56,
   "metadata": {},
   "outputs": [
    {
     "data": {
      "text/latex": [
       "$\\displaystyle \\sum_{n=1}^{\\infty} n^{- s} z^{n}$"
      ],
      "text/plain": [
       "  ∞         \n",
       " ___        \n",
       " ╲          \n",
       "  ╲    -s  n\n",
       "  ╱   n  ⋅z \n",
       " ╱          \n",
       " ‾‾‾        \n",
       "n = 1       "
      ]
     },
     "metadata": {},
     "output_type": "display_data"
    },
    {
     "data": {
      "text/latex": [
       "$\\displaystyle 1.6449340668482264365$"
      ],
      "text/plain": [
       "1.6449340668482264365"
      ]
     },
     "metadata": {},
     "output_type": "display_data"
    },
    {
     "data": {
      "text/latex": [
       "$\\displaystyle \\frac{\\pi^{2}}{6}$"
      ],
      "text/plain": [
       " 2\n",
       "π \n",
       "──\n",
       "6 "
      ]
     },
     "metadata": {},
     "output_type": "display_data"
    }
   ],
   "source": [
    "polylogarithm = Sum(z**n /n**s, (n, 1, oo))\n",
    "display(polylogarithm)\n",
    "display(polylogarithm.evalf(subs={s:2,z:1}, n=20))\n",
    "display(polylogarithm.subs({s:2,z:1}).doit())"
   ]
  },
  {
   "cell_type": "markdown",
   "metadata": {},
   "source": [
    "##### **Evaluating series using sequences**\n",
    "Constructing series as sequences rather than entire formulas allows for a finer control over how the series is calculated and displayed.\n",
    "By first creating a sequence of a function and then evaluating the series term by term it makes it much easier to take partial sums or plot values at particular points.\n",
    "\n"
   ]
  },
  {
   "cell_type": "code",
   "execution_count": 57,
   "metadata": {},
   "outputs": [],
   "source": [
    "def sequenceBuilder(sympyFunc : Function ,startIndex : int, endIndex : int) -> SeqFormula:\n",
    "    # I don't like the normal syntax so this function just wraps the base sequence function          \n",
    "    return sequence(sympyFunc, (n, startIndex, endIndex))"
   ]
  },
  {
   "cell_type": "code",
   "execution_count": 58,
   "metadata": {},
   "outputs": [
    {
     "data": {
      "text/latex": [
       "$\\displaystyle \\left[1, \\frac{1}{2}, \\frac{1}{3}, \\frac{1}{4}, \\ldots\\right]$"
      ],
      "text/plain": [
       "[1, 1/2, 1/3, 1/4, …]"
      ]
     },
     "metadata": {},
     "output_type": "display_data"
    }
   ],
   "source": [
    "rootOfUnityHarmonic = rootOfUnityPower(n, 1) / n\n",
    "rootOfUnityHarmonicSequence = sequenceBuilder(rootOfUnityHarmonic, 1, 10)\n",
    "display(rootOfUnityHarmonicSequence)"
   ]
  },
  {
   "cell_type": "code",
   "execution_count": 59,
   "metadata": {},
   "outputs": [
    {
     "data": {
      "text/latex": [
       "$\\displaystyle \\left[ 1, \\  \\frac{3}{2}, \\  \\frac{11}{6}, \\  \\frac{25}{12}, \\  \\frac{137}{60}, \\  \\frac{49}{20}, \\  \\frac{363}{140}, \\  \\frac{761}{280}, \\  \\frac{7129}{2520}, \\  \\frac{7381}{2520}\\right]$"
      ],
      "text/plain": [
       "⎡              25  137  49  363  761  7129  7381⎤\n",
       "⎢1, 3/2, 11/6, ──, ───, ──, ───, ───, ────, ────⎥\n",
       "⎣              12   60  20  140  280  2520  2520⎦"
      ]
     },
     "metadata": {},
     "output_type": "display_data"
    },
    {
     "data": {
      "text/latex": [
       "$\\displaystyle 2.92896825396825$"
      ],
      "text/plain": [
       "2.92896825396825"
      ]
     },
     "metadata": {},
     "output_type": "display_data"
    }
   ],
   "source": [
    "def partialSumSequence(inputSequence : SeqFormula):\n",
    "    outputSequence = []\n",
    "    partialSum = 0    \n",
    "    for i in range(0, inputSequence.length):\n",
    "        partialSum += inputSequence[i]\n",
    "        outputSequence.append(partialSum)\n",
    "    return outputSequence     \n",
    "\n",
    "output = partialSumSequence(rootOfUnityHarmonicSequence)\n",
    "display(output)\n",
    "display(output[rootOfUnityHarmonicSequence.length - 1].evalf())"
   ]
  },
  {
   "cell_type": "code",
   "execution_count": 60,
   "metadata": {},
   "outputs": [
    {
     "data": {
      "text/latex": [
       "$\\displaystyle 2.92896825396825$"
      ],
      "text/plain": [
       "2.92896825396825"
      ]
     },
     "metadata": {},
     "output_type": "display_data"
    }
   ],
   "source": [
    "# This method adds together a sequence of values and then evaluates it to an arbitray precision\n",
    "def evaluateSum(inputSeq : SeqFormula, precision : int):    \n",
    "    return N(summation(inputSeq.formula, (n, inputSeq.interval.left, inputSeq.interval.right)), precision)\n",
    "\n",
    "display(evaluateSum(rootOfUnityHarmonicSequence,15))"
   ]
  },
  {
   "cell_type": "code",
   "execution_count": 61,
   "metadata": {},
   "outputs": [
    {
     "data": {
      "text/latex": [
       "$\\displaystyle \\sum_{n=1}^{1000} \\frac{e^{\\frac{2 i \\pi n}{3}}}{n^{3}}$"
      ],
      "text/plain": [
       " 1000          \n",
       "______         \n",
       "╲              \n",
       " ╲             \n",
       "  ╲     2⋅ⅈ⋅π⋅n\n",
       "   ╲    ───────\n",
       "    ╲      3   \n",
       "    ╱  ℯ       \n",
       "   ╱   ────────\n",
       "  ╱        3   \n",
       " ╱        n    \n",
       "╱              \n",
       "‾‾‾‾‾‾         \n",
       "n = 1          "
      ]
     },
     "metadata": {},
     "output_type": "display_data"
    },
    {
     "data": {
      "text/latex": [
       "$\\displaystyle -0.534247512514876 + 0.765587079102405 i$"
      ],
      "text/plain": [
       "-0.534247512514876 + 0.765587079102405⋅ⅈ"
      ]
     },
     "metadata": {},
     "output_type": "display_data"
    },
    {
     "data": {
      "text/latex": [
       "$\\displaystyle -0.534247512514876 + 0.765587079102405 i$"
      ],
      "text/plain": [
       "-0.534247512514876 + 0.765587079102405⋅ⅈ"
      ]
     },
     "metadata": {},
     "output_type": "display_data"
    }
   ],
   "source": [
    "# Comparing ways to sum a series\n",
    "sumVersion = Sum(rootOfUnityZetaFunction(3, 0, 3), (n, 1, 1000))\n",
    "display(sumVersion)\n",
    "\n",
    "# Using sequences\n",
    "z1 = rootOfUnityZetaFunction(3,0, 3)\n",
    "zs1 = sequenceBuilder(z1, 1, 1000)\n",
    "display(evaluateSum(zs1,15))\n",
    "\n",
    "# Using Sum objects\n",
    "display(sumVersion.evalf(n=15))\n"
   ]
  },
  {
   "cell_type": "code",
   "execution_count": 62,
   "metadata": {},
   "outputs": [],
   "source": [
    "# This function plots sequences tip to tail in the complex plane\n",
    "# Should be passed a partial sum\n",
    "def complexPlotPartialSum(inputSequence : SeqFormula):    \n",
    "    listVersion = list(inputSequence)    \n",
    "    lastX = 0\n",
    "    lastY = 0\n",
    "    for i in range(0, len(listVersion)):\n",
    "        realComp = complex(inputSequence[i]).real\n",
    "        imagComp = complex(inputSequence[i]).imag\n",
    "        plt.plot([lastX, realComp], [lastY, imagComp])  \n",
    "        lastX = realComp\n",
    "        lastY = imagComp\n",
    "\n",
    "    plt.axis('square')\n",
    "    plt.show()    "
   ]
  },
  {
   "cell_type": "code",
   "execution_count": 67,
   "metadata": {},
   "outputs": [],
   "source": [
    "# This function plots sequences tip to tail in the complex plane\n",
    "# Should be passed a partial sum\n",
    "def complexPlotSequence(inputSequence : SeqFormula):    \n",
    "    listVersion = list(inputSequence)   \n",
    "    for i in range(0, len(listVersion)):\n",
    "        realComp = complex(inputSequence[i]).real\n",
    "        imagComp = complex(inputSequence[i]).imag\n",
    "        plt.plot([0, realComp], [0, imagComp])  \n",
    "        \n",
    "\n",
    "    plt.axis('square')\n",
    "    plt.show()    "
   ]
  },
  {
   "cell_type": "code",
   "execution_count": 72,
   "metadata": {},
   "outputs": [
    {
     "data": {
      "text/latex": [
       "$\\displaystyle \\sum_{n=1}^{1000} \\frac{e^{\\frac{2 i \\pi n}{25}}}{n}$"
      ],
      "text/plain": [
       " 1000         \n",
       "_____         \n",
       "╲             \n",
       " ╲     2⋅ⅈ⋅π⋅n\n",
       "  ╲    ───────\n",
       "   ╲      25  \n",
       "   ╱  ℯ       \n",
       "  ╱   ────────\n",
       " ╱       n    \n",
       "╱             \n",
       "‾‾‾‾‾         \n",
       "n = 1         "
      ]
     },
     "metadata": {},
     "output_type": "display_data"
    },
    {
     "data": {
      "image/png": "[encoded data removed]",
      "text/plain": [
       "<Figure size 640x480 with 1 Axes>"
      ]
     },
     "metadata": {},
     "output_type": "display_data"
    },
    {
     "data": {
      "image/png": "[encoded data removed]",
      "text/plain": [
       "<Figure size 640x480 with 1 Axes>"
      ]
     },
     "metadata": {},
     "output_type": "display_data"
    },
    {
     "data": {
      "text/latex": [
       "$\\displaystyle 1.38411612620142 + 1.44117483906368 i$"
      ],
      "text/plain": [
       "1.38411612620142 + 1.44117483906368⋅ⅈ"
      ]
     },
     "metadata": {},
     "output_type": "display_data"
    }
   ],
   "source": [
    "rootOfUnity = 25\n",
    "sValue = 1\n",
    "offset = 0\n",
    "numTerms = 1000\n",
    "\n",
    "# I might try to make a plotter that only asks for a function as input\n",
    "functionToPlot = rootOfUnityZetaFunction(rootOfUnity, offset, sValue)\n",
    "display(Sum(functionToPlot, (n, 1, numTerms)))\n",
    "functionSequence = sequenceBuilder(functionToPlot, 1, numTerms)\n",
    "\n",
    "# Plot of the sequence\n",
    "complexPlotSequence(functionSequence) \n",
    "\n",
    "# Plot of the partial sums\n",
    "complexPlotPartialSum(partialSumSequence(functionSequence))\n",
    "\n",
    "display(evaluateSum(functionSequence,15))"
   ]
  }
 ],
 "metadata": {
  "kernelspec": {
   "display_name": "Python 3.10.6 64-bit",
   "language": "python",
   "name": "python3"
  },
  "language_info": {
   "codemirror_mode": {
    "name": "ipython",
    "version": 3
   },
   "file_extension": ".py",
   "mimetype": "text/x-python",
   "name": "python",
   "nbconvert_exporter": "python",
   "pygments_lexer": "ipython3",
   "version": "3.10.6"
  },
  "orig_nbformat": 4,
  "vscode": {
   "interpreter": {
    "hash": "369f2c481f4da34e4445cda3fffd2e751bd1c4d706f27375911949ba6bb62e1c"
   }
  }
 },
 "nbformat": 4,
 "nbformat_minor": 2
}
