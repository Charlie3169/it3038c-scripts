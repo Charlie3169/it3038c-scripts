{
 "cells": [
  {
   "cell_type": "markdown",
   "metadata": {},
   "source": [
    "# Final project\n",
    "\n",
    "For this project I made a complex number plotter \n",
    "\n",
    "Instructions on running the project: \n",
    "\n",
    "pip install notebook\n",
    "\n",
    "Then in the project directory:\n",
    "\n",
    "jupyter notebook"
   ]
  },
  {
   "cell_type": "code",
   "execution_count": 169,
   "metadata": {},
   "outputs": [],
   "source": [
    "import math\n",
    "import cmath\n",
    "import numpy as np\n",
    "from sympy import *\n",
    "import matplotlib as plt"
   ]
  },
  {
   "cell_type": "code",
   "execution_count": 170,
   "metadata": {},
   "outputs": [],
   "source": [
    "x, y, z, t, s, b, c = symbols('x y z t s b c')\n",
    "k, m, n = symbols('k m n', integer=True)\n",
    "f, g, h = symbols('f g h', cls=Function)\n",
    "init_printing(fontsize='200pt', use_latex='mathjax')"
   ]
  },
  {
   "cell_type": "code",
   "execution_count": 171,
   "metadata": {},
   "outputs": [
    {
     "data": {
      "text/latex": [
       "$\\displaystyle \\int \\sqrt{\\frac{1}{x}}\\, dx$"
      ],
      "text/plain": [
       "⌠           \n",
       "⎮     ___   \n",
       "⎮    ╱ 1    \n",
       "⎮   ╱  ─  dx\n",
       "⎮ ╲╱   x    \n",
       "⌡           "
      ]
     },
     "execution_count": 171,
     "metadata": {},
     "output_type": "execute_result"
    }
   ],
   "source": [
    "Integral(sqrt(1/x),x)"
   ]
  },
  {
   "cell_type": "code",
   "execution_count": 172,
   "metadata": {},
   "outputs": [
    {
     "data": {
      "text/latex": [
       "$\\displaystyle \\sum_{k=1}^{\\infty} \\frac{1}{k}$"
      ],
      "text/plain": [
       "  ∞    \n",
       " ____  \n",
       " ╲     \n",
       "  ╲    \n",
       "   ╲  1\n",
       "   ╱  ─\n",
       "  ╱   k\n",
       " ╱     \n",
       " ‾‾‾‾  \n",
       "k = 1  "
      ]
     },
     "execution_count": 172,
     "metadata": {},
     "output_type": "execute_result"
    }
   ],
   "source": [
    "Sum(1/k, (k, 1, oo))"
   ]
  },
  {
   "cell_type": "code",
   "execution_count": 173,
   "metadata": {},
   "outputs": [
    {
     "data": {
      "text/latex": [
       "$\\displaystyle e^{\\frac{2 i \\pi}{7}}$"
      ],
      "text/plain": [
       " 2⋅ⅈ⋅π\n",
       " ─────\n",
       "   7  \n",
       "ℯ     "
      ]
     },
     "execution_count": 173,
     "metadata": {},
     "output_type": "execute_result"
    }
   ],
   "source": [
    "def rootOfUnityPowerSymbolic(numerator: int, denominator: int) -> Symbol:\n",
    "    return exp((2 * pi * I * numerator) / denominator)\n",
    "\n",
    "rootOfUnityPowerSymbolic(1,7)"
   ]
  },
  {
   "cell_type": "code",
   "execution_count": 174,
   "metadata": {},
   "outputs": [
    {
     "data": {
      "text/latex": [
       "$\\displaystyle \\sum_{n=1}^{\\infty} n^{- s} e^{\\frac{2 i \\pi n}{3}}$"
      ],
      "text/plain": [
       "  ∞               \n",
       " ____             \n",
       " ╲                \n",
       "  ╲        2⋅ⅈ⋅π⋅n\n",
       "   ╲       ───────\n",
       "   ╱   -s     3   \n",
       "  ╱   n  ⋅ℯ       \n",
       " ╱                \n",
       " ‾‾‾‾             \n",
       "n = 1             "
      ]
     },
     "execution_count": 174,
     "metadata": {},
     "output_type": "execute_result"
    }
   ],
   "source": [
    "Sum(rootOfUnityPowerSymbolic(n,3) / (n ** s), (n, 1, oo))"
   ]
  },
  {
   "cell_type": "code",
   "execution_count": 175,
   "metadata": {},
   "outputs": [
    {
     "data": {
      "text/latex": [
       "$\\displaystyle \\sum_{n=1}^{\\infty} \\frac{1}{n^{2}}$"
      ],
      "text/plain": [
       "  ∞     \n",
       " ____   \n",
       " ╲      \n",
       "  ╲   1 \n",
       "   ╲  ──\n",
       "   ╱   2\n",
       "  ╱   n \n",
       " ╱      \n",
       " ‾‾‾‾   \n",
       "n = 1   "
      ]
     },
     "metadata": {},
     "output_type": "display_data"
    },
    {
     "data": {
      "text/latex": [
       "$\\displaystyle \\sum_{n=1}^{\\infty} \\frac{1}{n^{3}}$"
      ],
      "text/plain": [
       "  ∞     \n",
       " ____   \n",
       " ╲      \n",
       "  ╲   1 \n",
       "   ╲  ──\n",
       "   ╱   3\n",
       "  ╱   n \n",
       " ╱      \n",
       " ‾‾‾‾   \n",
       "n = 1   "
      ]
     },
     "metadata": {},
     "output_type": "display_data"
    },
    {
     "data": {
      "text/latex": [
       "$\\displaystyle \\sum_{n=1}^{\\infty} \\frac{1}{n^{4}}$"
      ],
      "text/plain": [
       "  ∞     \n",
       " ____   \n",
       " ╲      \n",
       "  ╲   1 \n",
       "   ╲  ──\n",
       "   ╱   4\n",
       "  ╱   n \n",
       " ╱      \n",
       " ‾‾‾‾   \n",
       "n = 1   "
      ]
     },
     "metadata": {},
     "output_type": "display_data"
    }
   ],
   "source": [
    "display(Sum(1/n**2, (n, 1, oo)))\n",
    "display(Sum(1/n**3, (n, 1, oo)))\n",
    "display(Sum(1/n**4, (n, 1, oo)))"
   ]
  },
  {
   "cell_type": "code",
   "execution_count": 176,
   "metadata": {},
   "outputs": [
    {
     "name": "stdout",
     "output_type": "stream",
     "text": [
      "SeqFormula(exp(I*pi*n/3)/n, (n, 1, 10))\n",
      "-5/18 + 7*exp(-2*I*pi/3)/20 + exp(-I*pi/3)/5 + 5*exp(2*I*pi/3)/8 + 8*exp(I*pi/3)/7\n",
      "-5/18 + 7*exp(-2*I*pi/3)/20 + exp(-I*pi/3)/5 + 5*exp(2*I*pi/3)/8 + 8*exp(I*pi/3)/7\n"
     ]
    },
    {
     "data": {
      "text/latex": [
       "$\\displaystyle \\left[e^{\\frac{i \\pi}{3}}, \\frac{e^{\\frac{2 i \\pi}{3}}}{2}, - \\frac{1}{3}, \\frac{e^{- \\frac{2 i \\pi}{3}}}{4}, \\ldots\\right]$"
      ],
      "text/plain": [
       "⎡       2⋅ⅈ⋅π         -2⋅ⅈ⋅π    ⎤\n",
       "⎢ ⅈ⋅π   ─────         ───────   ⎥\n",
       "⎢ ───     3              3      ⎥\n",
       "⎢  3   ℯ             ℯ          ⎥\n",
       "⎢ℯ   , ──────, -1/3, ────────, …⎥\n",
       "⎣        2              4       ⎦"
      ]
     },
     "execution_count": 176,
     "metadata": {},
     "output_type": "execute_result"
    }
   ],
   "source": [
    "def sequenceBuilder(sympyFunc : Function ,startIndex : int, endIndex : int) -> SeqFormula:\n",
    "    return sequence(sympyFunc, (n, startIndex, endIndex))\n",
    "\n",
    "denominator = 6\n",
    "\n",
    "s1 = sequence((exp((2 * pi * I * n) / denominator) / n), (n, 1, 10))\n",
    "q = list(s1)\n",
    "print(s1)\n",
    "print(summation(s1.formula, (s1.variables, s1.interval.left, s1.interval.right)))\n",
    "print((sum(q)))\n",
    "\n",
    "summation(s1.formula, (s1.variables, s1.interval.left, s1.interval.right))\n",
    "sum(q)\n",
    "s1"
   ]
  },
  {
   "cell_type": "code",
   "execution_count": 177,
   "metadata": {},
   "outputs": [],
   "source": [
    "def partialSumSequence(inputSequence : SeqFormula):\n",
    "    return ''       "
   ]
  },
  {
   "cell_type": "code",
   "execution_count": 178,
   "metadata": {},
   "outputs": [
    {
     "data": {
      "text/latex": [
       "$\\displaystyle \\frac{e^{\\frac{2 i \\pi \\left(n + 1\\right)}{5}}}{n^{3}}$"
      ],
      "text/plain": [
       " 2⋅ⅈ⋅π⋅(n + 1)\n",
       " ─────────────\n",
       "       5      \n",
       "ℯ             \n",
       "──────────────\n",
       "       3      \n",
       "      n       "
      ]
     },
     "execution_count": 178,
     "metadata": {},
     "output_type": "execute_result"
    }
   ],
   "source": [
    "def rootOfUnityZetaFunction(nthRootOfUnity : int, rotationalOffset : int, sValue : complex) -> Function:\n",
    "    effectiveOffset = rotationalOffset % nthRootOfUnity    \n",
    "    return rootOfUnityPowerSymbolic(n + effectiveOffset, nthRootOfUnity) / (n ** sValue)\n",
    "\n",
    "rootOfUnityZetaFunction(5, 6, 3)"
   ]
  },
  {
   "cell_type": "code",
   "execution_count": 179,
   "metadata": {},
   "outputs": [
    {
     "data": {
      "text/latex": [
       "$\\displaystyle \\left[e^{\\frac{2 i \\pi}{5}}, \\frac{e^{\\frac{4 i \\pi}{5}}}{2}, \\frac{e^{- \\frac{4 i \\pi}{5}}}{3}, \\frac{e^{- \\frac{2 i \\pi}{5}}}{4}, \\ldots\\right]$"
      ],
      "text/plain": [
       "⎡         4⋅ⅈ⋅π   -4⋅ⅈ⋅π    -2⋅ⅈ⋅π    ⎤\n",
       "⎢ 2⋅ⅈ⋅π   ─────   ───────   ───────   ⎥\n",
       "⎢ ─────     5        5         5      ⎥\n",
       "⎢   5    ℯ       ℯ         ℯ          ⎥\n",
       "⎢ℯ     , ──────, ────────, ────────, …⎥\n",
       "⎣          2        3         4       ⎦"
      ]
     },
     "execution_count": 179,
     "metadata": {},
     "output_type": "execute_result"
    }
   ],
   "source": [
    "f = rootOfUnityPowerSymbolic(n, 5) / n\n",
    "seq = sequenceBuilder(f, 1, 1000)\n",
    "seq\n"
   ]
  },
  {
   "cell_type": "code",
   "execution_count": 180,
   "metadata": {},
   "outputs": [
    {
     "data": {
      "text/plain": [
       "(-0.1612542891831031+0.941789606112654j)"
      ]
     },
     "execution_count": 180,
     "metadata": {},
     "output_type": "execute_result"
    }
   ],
   "source": [
    "def evaluateSum(inputSeq : SeqFormula, precision : int) -> complex:\n",
    "    return complex(N(sum(list(inputSeq)), precision))\n",
    "\n",
    "evaluateSum(seq,15)"
   ]
  },
  {
   "cell_type": "code",
   "execution_count": 181,
   "metadata": {},
   "outputs": [
    {
     "data": {
      "text/latex": [
       "$\\displaystyle \\sum_{n=1}^{\\infty} \\frac{e^{\\frac{2 i \\pi n}{5}}}{n^{3}}$"
      ],
      "text/plain": [
       "  ∞            \n",
       "______         \n",
       "╲              \n",
       " ╲             \n",
       "  ╲     2⋅ⅈ⋅π⋅n\n",
       "   ╲    ───────\n",
       "    ╲      5   \n",
       "    ╱  ℯ       \n",
       "   ╱   ────────\n",
       "  ╱        3   \n",
       " ╱        n    \n",
       "╱              \n",
       "‾‾‾‾‾‾         \n",
       "n = 1          "
      ]
     },
     "metadata": {},
     "output_type": "display_data"
    },
    {
     "name": "stdout",
     "output_type": "stream",
     "text": [
      "(0.1893679155086609+0.9922008530814093j)\n"
     ]
    }
   ],
   "source": [
    "z1 = rootOfUnityZetaFunction(5,0, 3)\n",
    "zs1 = sequenceBuilder(z1, 1, 1000)\n",
    "display(Sum(rootOfUnityZetaFunction(5, 0, 3), (n, 1, oo)))\n",
    "print(evaluateSum(zs1,20))\n",
    "#display(Sum(rootOfUnityZetaFunction(5, 0, 3), (n, 1, oo)).evalf())\n"
   ]
  },
  {
   "cell_type": "code",
   "execution_count": 182,
   "metadata": {},
   "outputs": [],
   "source": [
    "def polylogarithm():\n",
    "    print(\"test\")"
   ]
  },
  {
   "cell_type": "code",
   "execution_count": 183,
   "metadata": {},
   "outputs": [],
   "source": [
    "def complexPlot(sequence):\n",
    "    \n",
    "    for val in len(sequence):\n",
    "        plt.plot(val)\n",
    "    \n",
    "    plt.axis('square')\n",
    "    plt.show()"
   ]
  },
  {
   "cell_type": "code",
   "execution_count": 184,
   "metadata": {},
   "outputs": [
    {
     "ename": "TypeError",
     "evalue": "'int' object is not iterable",
     "output_type": "error",
     "traceback": [
      "\u001b[1;31m---------------------------------------------------------------------------\u001b[0m",
      "\u001b[1;31mTypeError\u001b[0m                                 Traceback (most recent call last)",
      "\u001b[1;32mc:\\Users\\Charlie\\OneDrive\\School\\Scripting Languages\\it3038c-scripts\\final\\FInalProject.ipynb Cell 17\u001b[0m in \u001b[0;36m<cell line: 1>\u001b[1;34m()\u001b[0m\n\u001b[1;32m----> <a href='vscode-notebook-cell:/c%3A/Users/Charlie/OneDrive/School/Scripting%20Languages/it3038c-scripts/final/FInalProject.ipynb#X22sZmlsZQ%3D%3D?line=0'>1</a>\u001b[0m complexPlot(\u001b[39mlist\u001b[39;49m(seq))\n",
      "\u001b[1;32mc:\\Users\\Charlie\\OneDrive\\School\\Scripting Languages\\it3038c-scripts\\final\\FInalProject.ipynb Cell 17\u001b[0m in \u001b[0;36mcomplexPlot\u001b[1;34m(sequence)\u001b[0m\n\u001b[0;32m      <a href='vscode-notebook-cell:/c%3A/Users/Charlie/OneDrive/School/Scripting%20Languages/it3038c-scripts/final/FInalProject.ipynb#X22sZmlsZQ%3D%3D?line=0'>1</a>\u001b[0m \u001b[39mdef\u001b[39;00m \u001b[39mcomplexPlot\u001b[39m(sequence):\n\u001b[1;32m----> <a href='vscode-notebook-cell:/c%3A/Users/Charlie/OneDrive/School/Scripting%20Languages/it3038c-scripts/final/FInalProject.ipynb#X22sZmlsZQ%3D%3D?line=2'>3</a>\u001b[0m     \u001b[39mfor\u001b[39;00m val \u001b[39min\u001b[39;00m \u001b[39mlen\u001b[39m(sequence):\n\u001b[0;32m      <a href='vscode-notebook-cell:/c%3A/Users/Charlie/OneDrive/School/Scripting%20Languages/it3038c-scripts/final/FInalProject.ipynb#X22sZmlsZQ%3D%3D?line=3'>4</a>\u001b[0m         plt\u001b[39m.\u001b[39mplot(val)\n\u001b[0;32m      <a href='vscode-notebook-cell:/c%3A/Users/Charlie/OneDrive/School/Scripting%20Languages/it3038c-scripts/final/FInalProject.ipynb#X22sZmlsZQ%3D%3D?line=5'>6</a>\u001b[0m     plt\u001b[39m.\u001b[39maxis(\u001b[39m'\u001b[39m\u001b[39msquare\u001b[39m\u001b[39m'\u001b[39m)\n",
      "\u001b[1;31mTypeError\u001b[0m: 'int' object is not iterable"
     ]
    }
   ],
   "source": [
    "complexPlot(list(seq))"
   ]
  }
 ],
 "metadata": {
  "kernelspec": {
   "display_name": "Python 3 (ipykernel)",
   "language": "python",
   "name": "python3"
  },
  "language_info": {
   "codemirror_mode": {
    "name": "ipython",
    "version": 3
   },
   "file_extension": ".py",
   "mimetype": "text/x-python",
   "name": "python",
   "nbconvert_exporter": "python",
   "pygments_lexer": "ipython3",
   "version": "3.10.6"
  },
  "vscode": {
   "interpreter": {
    "hash": "369f2c481f4da34e4445cda3fffd2e751bd1c4d706f27375911949ba6bb62e1c"
   }
  }
 },
 "nbformat": 4,
 "nbformat_minor": 2
}
