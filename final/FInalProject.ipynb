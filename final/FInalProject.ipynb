{
 "cells": [
  {
   "cell_type": "markdown",
   "metadata": {},
   "source": [
    "# Final project\n",
    "\n",
    "For this project I made a complex number plotter \n",
    "\n",
    "Instructions on running the project: \n",
    "\n",
    "pip install notebook\n",
    "\n",
    "Then in the project directory:\n",
    "\n",
    "jupyter notebook"
   ]
  },
  {
   "cell_type": "code",
   "execution_count": 376,
   "metadata": {},
   "outputs": [],
   "source": [
    "import math\n",
    "import cmath\n",
    "import numpy as np\n",
    "from sympy import *\n",
    "import matplotlib as plt"
   ]
  },
  {
   "cell_type": "code",
   "execution_count": 377,
   "metadata": {},
   "outputs": [],
   "source": [
    "x, y, z, t, s, b, c = symbols('x y z t s b c')\n",
    "k, m, n = symbols('k m n', integer=True)\n",
    "f, g, h = symbols('f g h', cls=Function)\n",
    "init_printing()"
   ]
  },
  {
   "cell_type": "code",
   "execution_count": 378,
   "metadata": {},
   "outputs": [
    {
     "data": {
      "image/png": "[encoded data removed]",
      "text/latex": [
       "$\\displaystyle \\int \\sqrt{\\frac{1}{x}}\\, dx$"
      ],
      "text/plain": [
       "⌠           \n",
       "⎮     ___   \n",
       "⎮    ╱ 1    \n",
       "⎮   ╱  ─  dx\n",
       "⎮ ╲╱   x    \n",
       "⌡           "
      ]
     },
     "execution_count": 378,
     "metadata": {},
     "output_type": "execute_result"
    }
   ],
   "source": [
    "Integral(sqrt(1/x),x)"
   ]
  },
  {
   "cell_type": "code",
   "execution_count": 379,
   "metadata": {},
   "outputs": [],
   "source": [
    "def rootOfUnityPower(numerator, denominator):\n",
    "    return cmath.exp((math.tau * complex(0, 1) * numerator) / denominator)"
   ]
  },
  {
   "cell_type": "code",
   "execution_count": 380,
   "metadata": {},
   "outputs": [],
   "source": [
    "def rootOfUnityPowerSymbolic(numerator: int, denominator: int) -> Symbol:\n",
    "    return exp((2 * pi * I * numerator) / denominator)"
   ]
  },
  {
   "cell_type": "code",
   "execution_count": 381,
   "metadata": {},
   "outputs": [
    {
     "data": {
      "image/png": "[encoded data removed]",
      "text/latex": [
       "$\\displaystyle e^{- \\frac{2 i \\pi}{7}}$"
      ],
      "text/plain": [
       " -2⋅ⅈ⋅π \n",
       " ───────\n",
       "    7   \n",
       "ℯ       "
      ]
     },
     "execution_count": 381,
     "metadata": {},
     "output_type": "execute_result"
    }
   ],
   "source": [
    "rootOfUnityPowerSymbolic(20,7)"
   ]
  },
  {
   "cell_type": "code",
   "execution_count": 384,
   "metadata": {},
   "outputs": [
    {
     "name": "stdout",
     "output_type": "stream",
     "text": [
      "exp(2*I*pi*n/7)/n\n"
     ]
    }
   ],
   "source": [
    "numerator = 2\n",
    "denominator = 7\n",
    "\n",
    "s = sequence((exp((2 * pi * I * n) / denominator) / n), (n, 1, 10))\n",
    "s = SeqFormula((exp((2 * pi * I * n) / denominator) / n), (n, 1, 10))\n",
    "print(s.formula)"
   ]
  },
  {
   "cell_type": "code",
   "execution_count": 383,
   "metadata": {},
   "outputs": [
    {
     "ename": "AttributeError",
     "evalue": "'function' object has no attribute 'sequences'",
     "output_type": "error",
     "traceback": [
      "\u001b[1;31m---------------------------------------------------------------------------\u001b[0m",
      "\u001b[1;31mAttributeError\u001b[0m                            Traceback (most recent call last)",
      "\u001b[1;32mc:\\Users\\Charlie\\OneDrive\\School\\Scripting Languages\\it3038c-scripts\\final\\FInalProject.ipynb Cell 9\u001b[0m in \u001b[0;36m<cell line: 1>\u001b[1;34m()\u001b[0m\n\u001b[1;32m----> <a href='vscode-notebook-cell:/c%3A/Users/Charlie/OneDrive/School/Scripting%20Languages/it3038c-scripts/final/FInalProject.ipynb#X13sZmlsZQ%3D%3D?line=0'>1</a>\u001b[0m \u001b[39mdef\u001b[39;00m \u001b[39msequenceBuilder\u001b[39m(startIndex : \u001b[39mint\u001b[39m, endIndex : \u001b[39mint\u001b[39m) \u001b[39m-\u001b[39m\u001b[39m>\u001b[39m series\u001b[39m.\u001b[39;49msequences\u001b[39m.\u001b[39mSeqFormula:\n\u001b[0;32m      <a href='vscode-notebook-cell:/c%3A/Users/Charlie/OneDrive/School/Scripting%20Languages/it3038c-scripts/final/FInalProject.ipynb#X13sZmlsZQ%3D%3D?line=1'>2</a>\u001b[0m     sequence \u001b[39m=\u001b[39m [\u001b[39m1\u001b[39m]\n\u001b[0;32m      <a href='vscode-notebook-cell:/c%3A/Users/Charlie/OneDrive/School/Scripting%20Languages/it3038c-scripts/final/FInalProject.ipynb#X13sZmlsZQ%3D%3D?line=3'>4</a>\u001b[0m     \u001b[39mreturn\u001b[39;00m sequence\n",
      "\u001b[1;31mAttributeError\u001b[0m: 'function' object has no attribute 'sequences'"
     ]
    }
   ],
   "source": [
    "def sequenceBuilder(startIndex : int, endIndex : int) -> series.sequences.SeqFormula:\n",
    "    sequence = [1]\n",
    "\n",
    "    return sequence"
   ]
  },
  {
   "cell_type": "code",
   "execution_count": null,
   "metadata": {},
   "outputs": [],
   "source": [
    "def rootOfUnityZetaSeries(nthRoot, s : complex, precision: int) -> complex:\n",
    "    sum = complex(0,0)    \n",
    "    for n in range(1, precision + 1):     \n",
    "        sum +=  rootOfUnityPower(n, nthRoot) / (cmath.exp(s * cmath.log(n)))        \n",
    "    return sum"
   ]
  },
  {
   "cell_type": "code",
   "execution_count": null,
   "metadata": {},
   "outputs": [],
   "source": [
    "def rootOfUnityZetaSequence(nthRoot, s : complex, precision: int):\n",
    "    sequence = []   \n",
    "    for n in range(1, precision + 1):     \n",
    "        sequence.append(rootOfUnityPower(n, nthRoot) / (cmath.exp(s * cmath.log(n))))        \n",
    "    return sequence"
   ]
  },
  {
   "cell_type": "code",
   "execution_count": null,
   "metadata": {},
   "outputs": [],
   "source": [
    "def polylogarithm():\n",
    "    print(\"test\")"
   ]
  },
  {
   "cell_type": "code",
   "execution_count": null,
   "metadata": {},
   "outputs": [],
   "source": [
    "def sumBuilder():\n",
    "    sum = complex(0,0)\n",
    "\n",
    "    return sum"
   ]
  },
  {
   "cell_type": "code",
   "execution_count": null,
   "metadata": {},
   "outputs": [],
   "source": [
    "def complexPlot(sequence):\n",
    "    \n",
    "    for val in len(sequence):\n",
    "        plt.plot(val)\n",
    "    \n",
    "    plt.axis('square')\n",
    "    plt.show()"
   ]
  },
  {
   "cell_type": "code",
   "execution_count": null,
   "metadata": {},
   "outputs": [
    {
     "ename": "TypeError",
     "evalue": "'int' object is not iterable",
     "output_type": "error",
     "traceback": [
      "\u001b[1;31m---------------------------------------------------------------------------\u001b[0m",
      "\u001b[1;31mTypeError\u001b[0m                                 Traceback (most recent call last)",
      "\u001b[1;32mc:\\Users\\Charlie\\OneDrive\\School\\Scripting Languages\\it3038c-scripts\\final\\FInalProject.ipynb Cell 13\u001b[0m in \u001b[0;36m<cell line: 1>\u001b[1;34m()\u001b[0m\n\u001b[1;32m----> <a href='vscode-notebook-cell:/c%3A/Users/Charlie/OneDrive/School/Scripting%20Languages/it3038c-scripts/final/FInalProject.ipynb#X22sZmlsZQ%3D%3D?line=0'>1</a>\u001b[0m complexPlot(rootOfUnityZetaSequence(\u001b[39m1\u001b[39;49m,\u001b[39m2\u001b[39;49m,\u001b[39m10\u001b[39;49m))\n",
      "\u001b[1;32mc:\\Users\\Charlie\\OneDrive\\School\\Scripting Languages\\it3038c-scripts\\final\\FInalProject.ipynb Cell 13\u001b[0m in \u001b[0;36mcomplexPlot\u001b[1;34m(sequence)\u001b[0m\n\u001b[0;32m      <a href='vscode-notebook-cell:/c%3A/Users/Charlie/OneDrive/School/Scripting%20Languages/it3038c-scripts/final/FInalProject.ipynb#X22sZmlsZQ%3D%3D?line=0'>1</a>\u001b[0m \u001b[39mdef\u001b[39;00m \u001b[39mcomplexPlot\u001b[39m(sequence):\n\u001b[1;32m----> <a href='vscode-notebook-cell:/c%3A/Users/Charlie/OneDrive/School/Scripting%20Languages/it3038c-scripts/final/FInalProject.ipynb#X22sZmlsZQ%3D%3D?line=2'>3</a>\u001b[0m     \u001b[39mfor\u001b[39;00m val \u001b[39min\u001b[39;00m \u001b[39mlen\u001b[39m(sequence):\n\u001b[0;32m      <a href='vscode-notebook-cell:/c%3A/Users/Charlie/OneDrive/School/Scripting%20Languages/it3038c-scripts/final/FInalProject.ipynb#X22sZmlsZQ%3D%3D?line=3'>4</a>\u001b[0m         plt\u001b[39m.\u001b[39mplot(val)\n\u001b[0;32m      <a href='vscode-notebook-cell:/c%3A/Users/Charlie/OneDrive/School/Scripting%20Languages/it3038c-scripts/final/FInalProject.ipynb#X22sZmlsZQ%3D%3D?line=5'>6</a>\u001b[0m     plt\u001b[39m.\u001b[39maxis(\u001b[39m'\u001b[39m\u001b[39msquare\u001b[39m\u001b[39m'\u001b[39m)\n",
      "\u001b[1;31mTypeError\u001b[0m: 'int' object is not iterable"
     ]
    }
   ],
   "source": [
    "complexPlot(rootOfUnityZetaSequence(1,2,10))"
   ]
  },
  {
   "cell_type": "code",
   "execution_count": null,
   "metadata": {},
   "outputs": [
    {
     "name": "stdout",
     "output_type": "stream",
     "text": [
      "(1.6448340718480652-2.4953338646477306e-15j)\n",
      "[(1-2.4492935982947064e-16j), (0.25-1.2246467991473532e-16j), (0.11111111111111109-8.164311994315686e-17j), (0.06250000000000001-6.123233995736767e-17j), (0.04000000000000001-4.8985871965894137e-17j), (0.027777777777777776-4.082155997157844e-17j), (0.020408163265306124-3.498990854706724e-17j), (0.015625000000000007-3.061616997868384e-17j), (0.012345679012345675-2.721437331438562e-17j), (0.009999999999999995-2.4492935982947056e-17j)]\n"
     ]
    }
   ],
   "source": [
    "print(rootOfUnityZetaSeries(1, 2, 10000))\n",
    "print(rootOfUnityZetaSequence(1,2,10))"
   ]
  }
 ],
 "metadata": {
  "kernelspec": {
   "display_name": "Python 3 (ipykernel)",
   "language": "python",
   "name": "python3"
  },
  "language_info": {
   "codemirror_mode": {
    "name": "ipython",
    "version": 3
   },
   "file_extension": ".py",
   "mimetype": "text/x-python",
   "name": "python",
   "nbconvert_exporter": "python",
   "pygments_lexer": "ipython3",
   "version": "3.10.6"
  },
  "vscode": {
   "interpreter": {
    "hash": "369f2c481f4da34e4445cda3fffd2e751bd1c4d706f27375911949ba6bb62e1c"
   }
  }
 },
 "nbformat": 4,
 "nbformat_minor": 2
}
