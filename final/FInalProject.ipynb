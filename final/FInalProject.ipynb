{
 "cells": [
  {
   "cell_type": "markdown",
   "metadata": {},
   "source": [
    "# Final project\n",
    "\n",
    "For this project I made a complex number plotter that uses Sympy as a backend for any functions I'd want to graph. I've always wanted an easy way to graph stuff on the complex plane (especially in a reusable way) and this project is a good start.\n",
    "\n",
    "**Instructions on running the project:** \n",
    "\n",
    "pip install notebook\n",
    "\n",
    "pip install sympy\n",
    "\n",
    "**Then in the project directory:**\n",
    "\n",
    "jupyter notebook"
   ]
  },
  {
   "cell_type": "code",
   "execution_count": 426,
   "metadata": {},
   "outputs": [],
   "source": [
    "import math\n",
    "import cmath\n",
    "import numpy as np\n",
    "from sympy import *\n",
    "import matplotlib as plt"
   ]
  },
  {
   "cell_type": "code",
   "execution_count": 427,
   "metadata": {},
   "outputs": [],
   "source": [
    "x, t, z, s, a, b, c = symbols('x, t, z, s, a, b, c')\n",
    "k, m, n = symbols('k m n', integer=True)\n",
    "# f, g, h = symbols('f g h', cls=Function)\n",
    "init_printing(fontsize='200pt', use_latex='mathjax')"
   ]
  },
  {
   "cell_type": "code",
   "execution_count": 428,
   "metadata": {},
   "outputs": [
    {
     "data": {
      "text/latex": [
       "$\\displaystyle \\int \\sqrt{\\frac{1}{x}}\\, dx$"
      ],
      "text/plain": [
       "⌠           \n",
       "⎮     ___   \n",
       "⎮    ╱ 1    \n",
       "⎮   ╱  ─  dx\n",
       "⎮ ╲╱   x    \n",
       "⌡           "
      ]
     },
     "metadata": {},
     "output_type": "display_data"
    }
   ],
   "source": [
    "testIntegral = Integral(sqrt(1/x),x)\n",
    "display(testIntegral)"
   ]
  },
  {
   "cell_type": "code",
   "execution_count": 429,
   "metadata": {},
   "outputs": [
    {
     "data": {
      "text/latex": [
       "$\\displaystyle \\sum_{k=1}^{\\infty} \\frac{1}{k}$"
      ],
      "text/plain": [
       "  ∞    \n",
       " ____  \n",
       " ╲     \n",
       "  ╲    \n",
       "   ╲  1\n",
       "   ╱  ─\n",
       "  ╱   k\n",
       " ╱     \n",
       " ‾‾‾‾  \n",
       "k = 1  "
      ]
     },
     "metadata": {},
     "output_type": "display_data"
    }
   ],
   "source": [
    "testSum = Sum(1/k, (k, 1, oo))\n",
    "display(testSum)"
   ]
  },
  {
   "cell_type": "code",
   "execution_count": 430,
   "metadata": {},
   "outputs": [
    {
     "data": {
      "text/latex": [
       "$\\displaystyle e^{\\frac{2 i \\pi}{7}}$"
      ],
      "text/plain": [
       " 2⋅ⅈ⋅π\n",
       " ─────\n",
       "   7  \n",
       "ℯ     "
      ]
     },
     "execution_count": 430,
     "metadata": {},
     "output_type": "execute_result"
    }
   ],
   "source": [
    "# This function outputs n-th roots of unity raised to arbitrary powers\n",
    "# These will be the building blocks of many other functions \n",
    "def rootOfUnityPowerSymbolic(numerator: int, denominator: int) -> Symbol:\n",
    "    return exp((2 * pi * I * numerator) / denominator)\n",
    "\n",
    "rootOfUnityPowerSymbolic(1,7)"
   ]
  },
  {
   "cell_type": "code",
   "execution_count": 431,
   "metadata": {},
   "outputs": [
    {
     "data": {
      "text/latex": [
       "$\\displaystyle \\sum_{n=1}^{\\infty} n^{- s} e^{\\frac{2 i \\pi n}{b}}$"
      ],
      "text/plain": [
       "  ∞               \n",
       " ____             \n",
       " ╲                \n",
       "  ╲        2⋅ⅈ⋅π⋅n\n",
       "   ╲       ───────\n",
       "   ╱   -s     b   \n",
       "  ╱   n  ⋅ℯ       \n",
       " ╱                \n",
       " ‾‾‾‾             \n",
       "n = 1             "
      ]
     },
     "metadata": {},
     "output_type": "display_data"
    },
    {
     "data": {
      "text/latex": [
       "$\\displaystyle \\sum_{n=1}^{\\infty} \\frac{e^{\\frac{2 i \\pi n}{3}}}{n^{2}}$"
      ],
      "text/plain": [
       "  ∞            \n",
       "______         \n",
       "╲              \n",
       " ╲             \n",
       "  ╲     2⋅ⅈ⋅π⋅n\n",
       "   ╲    ───────\n",
       "    ╲      3   \n",
       "    ╱  ℯ       \n",
       "   ╱   ────────\n",
       "  ╱        2   \n",
       " ╱        n    \n",
       "╱              \n",
       "‾‾‾‾‾‾         \n",
       "n = 1          "
      ]
     },
     "metadata": {},
     "output_type": "display_data"
    },
    {
     "data": {
      "text/latex": [
       "$\\displaystyle -0.54805 + 0.6765 i$"
      ],
      "text/plain": [
       "-0.54805 + 0.6765⋅ⅈ"
      ]
     },
     "metadata": {},
     "output_type": "display_data"
    }
   ],
   "source": [
    "rootOfUnityZetaSeries = Sum(rootOfUnityPowerSymbolic(n,b) / (n ** s), (n, 1, oo))\n",
    "display(rootOfUnityZetaSeries)\n",
    "display(rootOfUnityZetaSeries.subs({s:2,b:3}))\n",
    "display(rootOfUnityZetaSeries.evalf(subs={s:2,b:3}))"
   ]
  },
  {
   "cell_type": "code",
   "execution_count": 432,
   "metadata": {},
   "outputs": [
    {
     "data": {
      "text/latex": [
       "$\\displaystyle \\frac{e^{\\frac{2 i \\pi \\left(n + 1\\right)}{5}}}{n^{3}}$"
      ],
      "text/plain": [
       " 2⋅ⅈ⋅π⋅(n + 1)\n",
       " ─────────────\n",
       "       5      \n",
       "ℯ             \n",
       "──────────────\n",
       "       3      \n",
       "      n       "
      ]
     },
     "execution_count": 432,
     "metadata": {},
     "output_type": "execute_result"
    }
   ],
   "source": [
    "def rootOfUnityZetaFunction(nthRootOfUnity : int, rotationalOffset : int, sValue : complex) -> Function:\n",
    "    effectiveOffset = rotationalOffset % nthRootOfUnity    \n",
    "    return rootOfUnityPowerSymbolic(n + effectiveOffset, nthRootOfUnity) / (n ** sValue)\n",
    "\n",
    "rootOfUnityZetaFunction(5, 6, 3)"
   ]
  },
  {
   "cell_type": "code",
   "execution_count": 433,
   "metadata": {},
   "outputs": [
    {
     "data": {
      "text/latex": [
       "$\\displaystyle \\sum_{n=1}^{\\infty} \\frac{1}{n^{2}}$"
      ],
      "text/plain": [
       "  ∞     \n",
       " ____   \n",
       " ╲      \n",
       "  ╲   1 \n",
       "   ╲  ──\n",
       "   ╱   2\n",
       "  ╱   n \n",
       " ╱      \n",
       " ‾‾‾‾   \n",
       "n = 1   "
      ]
     },
     "metadata": {},
     "output_type": "display_data"
    },
    {
     "data": {
      "text/latex": [
       "$\\displaystyle \\frac{\\pi^{2}}{6}$"
      ],
      "text/plain": [
       " 2\n",
       "π \n",
       "──\n",
       "6 "
      ]
     },
     "metadata": {},
     "output_type": "display_data"
    },
    {
     "data": {
      "text/latex": [
       "$\\displaystyle \\sum_{n=1}^{\\infty} \\frac{1}{n^{3}}$"
      ],
      "text/plain": [
       "  ∞     \n",
       " ____   \n",
       " ╲      \n",
       "  ╲   1 \n",
       "   ╲  ──\n",
       "   ╱   3\n",
       "  ╱   n \n",
       " ╱      \n",
       " ‾‾‾‾   \n",
       "n = 1   "
      ]
     },
     "metadata": {},
     "output_type": "display_data"
    },
    {
     "data": {
      "text/latex": [
       "$\\displaystyle \\zeta\\left(3\\right)$"
      ],
      "text/plain": [
       "ζ(3)"
      ]
     },
     "metadata": {},
     "output_type": "display_data"
    },
    {
     "data": {
      "text/latex": [
       "$\\displaystyle \\sum_{n=1}^{\\infty} \\frac{1}{n^{4}}$"
      ],
      "text/plain": [
       "  ∞     \n",
       " ____   \n",
       " ╲      \n",
       "  ╲   1 \n",
       "   ╲  ──\n",
       "   ╱   4\n",
       "  ╱   n \n",
       " ╱      \n",
       " ‾‾‾‾   \n",
       "n = 1   "
      ]
     },
     "metadata": {},
     "output_type": "display_data"
    },
    {
     "data": {
      "text/latex": [
       "$\\displaystyle \\frac{\\pi^{4}}{90}$"
      ],
      "text/plain": [
       " 4\n",
       "π \n",
       "──\n",
       "90"
      ]
     },
     "metadata": {},
     "output_type": "display_data"
    }
   ],
   "source": [
    "display(Sum(1/n**2, (n, 1, oo)))\n",
    "display(Sum(1/n**2, (n, 1, oo)).doit())\n",
    "display(Sum(1/n**3, (n, 1, oo)))\n",
    "display(Sum(1/n**3, (n, 1, oo)).doit())\n",
    "display(Sum(1/n**4, (n, 1, oo)))\n",
    "display(Sum(1/n**4, (n, 1, oo)).doit())"
   ]
  },
  {
   "cell_type": "code",
   "execution_count": 434,
   "metadata": {},
   "outputs": [
    {
     "data": {
      "text/latex": [
       "$\\displaystyle \\sum_{n=1}^{\\infty} n^{- s} z^{n}$"
      ],
      "text/plain": [
       "  ∞         \n",
       " ___        \n",
       " ╲          \n",
       "  ╲    -s  n\n",
       "  ╱   n  ⋅z \n",
       " ╱          \n",
       " ‾‾‾        \n",
       "n = 1       "
      ]
     },
     "metadata": {},
     "output_type": "display_data"
    },
    {
     "data": {
      "text/latex": [
       "$\\displaystyle 1.6449340668482264365$"
      ],
      "text/plain": [
       "1.6449340668482264365"
      ]
     },
     "metadata": {},
     "output_type": "display_data"
    }
   ],
   "source": [
    "polylogarithm = Sum(z**n /n**s, (n, 1, oo))\n",
    "display(polylogarithm)\n",
    "display(polylogarithm.evalf(subs={s:2,z:1}, n=20))"
   ]
  },
  {
   "cell_type": "markdown",
   "metadata": {},
   "source": [
    "##### **Evaluating series using sequences**\n",
    "Constructing series as sequences rather than entire formulas allows for a finer control over how the series is calculated and displayed.\n",
    "By first creating a sequence of a function and then evaluating the series term by term it makes it much easier to take partial sums or plot values at particular points.\n",
    "\n"
   ]
  },
  {
   "cell_type": "code",
   "execution_count": 435,
   "metadata": {},
   "outputs": [],
   "source": [
    "def sequenceBuilder(sympyFunc : Function ,startIndex : int, endIndex : int) -> SeqFormula:\n",
    "    # I don't like the normal syntax so this function just wraps the base sequence function          \n",
    "    return sequence(sympyFunc, (n, startIndex, endIndex))"
   ]
  },
  {
   "cell_type": "code",
   "execution_count": 468,
   "metadata": {},
   "outputs": [
    {
     "data": {
      "text/latex": [
       "$\\displaystyle \\left[1, \\frac{1}{2}, \\frac{1}{3}, \\frac{1}{4}, \\ldots\\right]$"
      ],
      "text/plain": [
       "[1, 1/2, 1/3, 1/4, …]"
      ]
     },
     "metadata": {},
     "output_type": "display_data"
    }
   ],
   "source": [
    "rootOfUnityHarmonic = rootOfUnityPowerSymbolic(n, 1) / n\n",
    "rootOfUnityHarmonicSequence = sequenceBuilder(rootOfUnityHarmonic, 1, 1000)\n",
    "display(rootOfUnityHarmonicSequence)"
   ]
  },
  {
   "cell_type": "code",
   "execution_count": 469,
   "metadata": {},
   "outputs": [
    {
     "data": {
      "text/latex": [
       "$\\displaystyle 7.48547086055035$"
      ],
      "text/plain": [
       "7.48547086055035"
      ]
     },
     "execution_count": 469,
     "metadata": {},
     "output_type": "execute_result"
    }
   ],
   "source": [
    "def partialSumSequence(inputSequence : SeqFormula):\n",
    "    outputSequence = []\n",
    "    partialSum = 0    \n",
    "    for i in range(0, inputSequence.length):\n",
    "        partialSum += inputSequence[i]\n",
    "        outputSequence.append(partialSum)\n",
    "    return outputSequence     \n",
    "    \n",
    "partialSumSequence(rootOfUnityHarmonicSequence)[rootOfUnityHarmonicSequence.length - 1].evalf()"
   ]
  },
  {
   "cell_type": "code",
   "execution_count": 470,
   "metadata": {},
   "outputs": [
    {
     "data": {
      "text/latex": [
       "$\\displaystyle 7.48547086055035$"
      ],
      "text/plain": [
       "7.48547086055035"
      ]
     },
     "metadata": {},
     "output_type": "display_data"
    }
   ],
   "source": [
    "# This method adds together a sequence of values and then evaluates it to an arbitray precision\n",
    "def evaluateSum(inputSeq : SeqFormula, precision : int):    \n",
    "    return N(summation(inputSeq.formula, (n, inputSeq.interval.left, inputSeq.interval.right)), precision)\n",
    "\n",
    "display(evaluateSum(rootOfUnityHarmonicSequence,15))"
   ]
  },
  {
   "cell_type": "code",
   "execution_count": 464,
   "metadata": {},
   "outputs": [
    {
     "data": {
      "text/latex": [
       "$\\displaystyle \\sum_{n=1}^{1000} \\frac{e^{\\frac{2 i \\pi n}{3}}}{n^{3}}$"
      ],
      "text/plain": [
       " 1000          \n",
       "______         \n",
       "╲              \n",
       " ╲             \n",
       "  ╲     2⋅ⅈ⋅π⋅n\n",
       "   ╲    ───────\n",
       "    ╲      3   \n",
       "    ╱  ℯ       \n",
       "   ╱   ────────\n",
       "  ╱        3   \n",
       " ╱        n    \n",
       "╱              \n",
       "‾‾‾‾‾‾         \n",
       "n = 1          "
      ]
     },
     "metadata": {},
     "output_type": "display_data"
    },
    {
     "data": {
      "text/latex": [
       "$\\displaystyle -0.534247512514876 + 0.765587079102405 i$"
      ],
      "text/plain": [
       "-0.534247512514876 + 0.765587079102405⋅ⅈ"
      ]
     },
     "metadata": {},
     "output_type": "display_data"
    },
    {
     "data": {
      "text/latex": [
       "$\\displaystyle -0.534247512514876 + 0.765587079102405 i$"
      ],
      "text/plain": [
       "-0.534247512514876 + 0.765587079102405⋅ⅈ"
      ]
     },
     "metadata": {},
     "output_type": "display_data"
    }
   ],
   "source": [
    "# Comparing ways to sum a series\n",
    "sumVersion = Sum(rootOfUnityZetaFunction(3, 0, 3), (n, 1, 1000))\n",
    "display(sumVersion)\n",
    "\n",
    "# Using sequences\n",
    "z1 = rootOfUnityZetaFunction(3,0, 3)\n",
    "zs1 = sequenceBuilder(z1, 1, 1000)\n",
    "display(evaluateSum(zs1,15))\n",
    "\n",
    "# Using Sum objects\n",
    "display(sumVersion.evalf(n=15))\n"
   ]
  },
  {
   "cell_type": "code",
   "execution_count": 440,
   "metadata": {},
   "outputs": [],
   "source": [
    "def complexPlot(inputSequence):\n",
    "    \n",
    "    for i in range(0, inputSequence.length):\n",
    "        plt.plot(inputSequence[i])\n",
    "    \n",
    "    plt.axis('square')\n",
    "    plt.show()"
   ]
  },
  {
   "cell_type": "code",
   "execution_count": 441,
   "metadata": {},
   "outputs": [
    {
     "ename": "AttributeError",
     "evalue": "module 'matplotlib' has no attribute 'plot'",
     "output_type": "error",
     "traceback": [
      "\u001b[1;31m---------------------------------------------------------------------------\u001b[0m",
      "\u001b[1;31mAttributeError\u001b[0m                            Traceback (most recent call last)",
      "\u001b[1;32mc:\\Users\\Charlie\\OneDrive\\School\\Scripting Languages\\it3038c-scripts\\final\\FInalProject.ipynb Cell 18\u001b[0m in \u001b[0;36m<cell line: 1>\u001b[1;34m()\u001b[0m\n\u001b[1;32m----> <a href='vscode-notebook-cell:/c%3A/Users/Charlie/OneDrive/School/Scripting%20Languages/it3038c-scripts/final/FInalProject.ipynb#X22sZmlsZQ%3D%3D?line=0'>1</a>\u001b[0m complexPlot(rootOfUnityHarmonicSequence)\n",
      "\u001b[1;32mc:\\Users\\Charlie\\OneDrive\\School\\Scripting Languages\\it3038c-scripts\\final\\FInalProject.ipynb Cell 18\u001b[0m in \u001b[0;36mcomplexPlot\u001b[1;34m(inputSequence)\u001b[0m\n\u001b[0;32m      <a href='vscode-notebook-cell:/c%3A/Users/Charlie/OneDrive/School/Scripting%20Languages/it3038c-scripts/final/FInalProject.ipynb#X22sZmlsZQ%3D%3D?line=0'>1</a>\u001b[0m \u001b[39mdef\u001b[39;00m \u001b[39mcomplexPlot\u001b[39m(inputSequence):\n\u001b[0;32m      <a href='vscode-notebook-cell:/c%3A/Users/Charlie/OneDrive/School/Scripting%20Languages/it3038c-scripts/final/FInalProject.ipynb#X22sZmlsZQ%3D%3D?line=2'>3</a>\u001b[0m     \u001b[39mfor\u001b[39;00m i \u001b[39min\u001b[39;00m \u001b[39mrange\u001b[39m(\u001b[39m0\u001b[39m, inputSequence\u001b[39m.\u001b[39mlength):\n\u001b[1;32m----> <a href='vscode-notebook-cell:/c%3A/Users/Charlie/OneDrive/School/Scripting%20Languages/it3038c-scripts/final/FInalProject.ipynb#X22sZmlsZQ%3D%3D?line=3'>4</a>\u001b[0m         plt\u001b[39m.\u001b[39;49mplot(inputSequence[i])\n\u001b[0;32m      <a href='vscode-notebook-cell:/c%3A/Users/Charlie/OneDrive/School/Scripting%20Languages/it3038c-scripts/final/FInalProject.ipynb#X22sZmlsZQ%3D%3D?line=5'>6</a>\u001b[0m     plt\u001b[39m.\u001b[39maxis(\u001b[39m'\u001b[39m\u001b[39msquare\u001b[39m\u001b[39m'\u001b[39m)\n\u001b[0;32m      <a href='vscode-notebook-cell:/c%3A/Users/Charlie/OneDrive/School/Scripting%20Languages/it3038c-scripts/final/FInalProject.ipynb#X22sZmlsZQ%3D%3D?line=6'>7</a>\u001b[0m     plt\u001b[39m.\u001b[39mshow()\n",
      "File \u001b[1;32m~\\AppData\\Local\\Programs\\Python\\Python310\\lib\\site-packages\\matplotlib\\_api\\__init__.py:222\u001b[0m, in \u001b[0;36mcaching_module_getattr.<locals>.__getattr__\u001b[1;34m(name)\u001b[0m\n\u001b[0;32m    220\u001b[0m \u001b[39mif\u001b[39;00m name \u001b[39min\u001b[39;00m props:\n\u001b[0;32m    221\u001b[0m     \u001b[39mreturn\u001b[39;00m props[name]\u001b[39m.\u001b[39m\u001b[39m__get__\u001b[39m(instance)\n\u001b[1;32m--> 222\u001b[0m \u001b[39mraise\u001b[39;00m \u001b[39mAttributeError\u001b[39;00m(\n\u001b[0;32m    223\u001b[0m     \u001b[39mf\u001b[39m\u001b[39m\"\u001b[39m\u001b[39mmodule \u001b[39m\u001b[39m{\u001b[39;00m\u001b[39mcls\u001b[39m\u001b[39m.\u001b[39m\u001b[39m__module__\u001b[39m\u001b[39m!r}\u001b[39;00m\u001b[39m has no attribute \u001b[39m\u001b[39m{\u001b[39;00mname\u001b[39m!r}\u001b[39;00m\u001b[39m\"\u001b[39m)\n",
      "\u001b[1;31mAttributeError\u001b[0m: module 'matplotlib' has no attribute 'plot'"
     ]
    }
   ],
   "source": [
    "complexPlot(rootOfUnityHarmonicSequence)"
   ]
  }
 ],
 "metadata": {
  "kernelspec": {
   "display_name": "Python 3.10.6 64-bit",
   "language": "python",
   "name": "python3"
  },
  "language_info": {
   "codemirror_mode": {
    "name": "ipython",
    "version": 3
   },
   "file_extension": ".py",
   "mimetype": "text/x-python",
   "name": "python",
   "nbconvert_exporter": "python",
   "pygments_lexer": "ipython3",
   "version": "3.10.6"
  },
  "orig_nbformat": 4,
  "vscode": {
   "interpreter": {
    "hash": "369f2c481f4da34e4445cda3fffd2e751bd1c4d706f27375911949ba6bb62e1c"
   }
  }
 },
 "nbformat": 4,
 "nbformat_minor": 2
}
